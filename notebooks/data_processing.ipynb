{
 "cells": [
  {
   "cell_type": "code",
   "execution_count": 18,
   "metadata": {},
   "outputs": [],
   "source": [
    "import os\n",
    "import json\n",
    "import requests\n",
    "\n",
    "origin_data_folder=\"/home/thhuang/voc_data/bli_data/json\"\n",
    "processed_data_folder=\"/home/thhuang/myproject/langflow_implement/processed_json\"\n",
    "\n",
    "langflow_api=\"http://localhost:7860/api/v1/run/306915ac-ecf9-4b22-a5e9-f6ccd1659de4?stream=false\"\n",
    "# langflow_api=\"http://localhost:7860/api/v1/run/3609db05-62d9-4cec-8dd6-5f9a2fdde803?stream=false\""
   ]
  },
  {
   "cell_type": "code",
   "execution_count": 26,
   "metadata": {},
   "outputs": [],
   "source": [
    "#讀取origin_data_folder的json檔案\n",
    "def read_json_files(folder_path):\n",
    "    json_data = []\n",
    "    for filename in os.listdir(folder_path):\n",
    "        if filename.endswith('.json'):\n",
    "            file_path = os.path.join(folder_path, filename)\n",
    "            with open(file_path, 'r') as file:\n",
    "                data = json.load(file)\n",
    "                json_data.append(data)\n",
    "    return json_data\n",
    "\n",
    "#將json檔案寫入processed_data_folder\n",
    "def write_json_files(folder_path, json_data):\n",
    "    for i, data in enumerate(json_data):\n",
    "        file_path = os.path.join(folder_path, f'processed_{i}.json')\n",
    "        with open(file_path, 'w') as file:\n",
    "            json.dump(data, file, indent=4,ensure_ascii=False)"
   ]
  },
  {
   "cell_type": "code",
   "execution_count": 21,
   "metadata": {},
   "outputs": [],
   "source": [
    "data_list=read_json_files(origin_data_folder)"
   ]
  },
  {
   "cell_type": "code",
   "execution_count": 34,
   "metadata": {},
   "outputs": [
    {
     "name": "stdout",
     "output_type": "stream",
     "text": [
      "對話處理進度：1/1038，語句處理進度總共：1/51\n",
      "對話處理進度：1/1038，語句處理進度總共：2/51\n",
      "對話處理進度：1/1038，語句處理進度總共：3/51\n",
      "對話處理進度：1/1038，語句處理進度總共：4/51\n",
      "對話處理進度：1/1038，語句處理進度總共：5/51\n",
      "對話處理進度：1/1038，語句處理進度總共：6/51\n",
      "對話處理進度：1/1038，語句處理進度總共：7/51\n",
      "對話處理進度：1/1038，語句處理進度總共：8/51\n",
      "對話處理進度：1/1038，語句處理進度總共：9/51\n",
      "對話處理進度：1/1038，語句處理進度總共：10/51\n",
      "對話處理進度：1/1038，語句處理進度總共：11/51\n",
      "對話處理進度：1/1038，語句處理進度總共：12/51\n",
      "對話處理進度：1/1038，語句處理進度總共：13/51\n",
      "對話處理進度：1/1038，語句處理進度總共：14/51\n",
      "對話處理進度：1/1038，語句處理進度總共：15/51\n",
      "對話處理進度：1/1038，語句處理進度總共：16/51\n",
      "對話處理進度：1/1038，語句處理進度總共：17/51\n",
      "對話處理進度：1/1038，語句處理進度總共：18/51\n",
      "對話處理進度：1/1038，語句處理進度總共：19/51\n",
      "對話處理進度：1/1038，語句處理進度總共：20/51\n",
      "對話處理進度：1/1038，語句處理進度總共：21/51\n",
      "對話處理進度：1/1038，語句處理進度總共：22/51\n",
      "對話處理進度：1/1038，語句處理進度總共：23/51\n",
      "對話處理進度：1/1038，語句處理進度總共：24/51\n",
      "對話處理進度：1/1038，語句處理進度總共：25/51\n",
      "對話處理進度：1/1038，語句處理進度總共：26/51\n",
      "對話處理進度：1/1038，語句處理進度總共：27/51\n",
      "對話處理進度：1/1038，語句處理進度總共：28/51\n",
      "對話處理進度：1/1038，語句處理進度總共：29/51\n",
      "對話處理進度：1/1038，語句處理進度總共：30/51\n",
      "對話處理進度：1/1038，語句處理進度總共：31/51\n",
      "對話處理進度：1/1038，語句處理進度總共：32/51\n",
      "對話處理進度：1/1038，語句處理進度總共：33/51\n",
      "對話處理進度：1/1038，語句處理進度總共：34/51\n",
      "對話處理進度：1/1038，語句處理進度總共：35/51\n",
      "對話處理進度：1/1038，語句處理進度總共：36/51\n",
      "對話處理進度：1/1038，語句處理進度總共：37/51\n",
      "對話處理進度：1/1038，語句處理進度總共：38/51\n",
      "對話處理進度：1/1038，語句處理進度總共：39/51\n",
      "對話處理進度：1/1038，語句處理進度總共：40/51\n",
      "對話處理進度：1/1038，語句處理進度總共：41/51\n",
      "對話處理進度：1/1038，語句處理進度總共：42/51\n",
      "對話處理進度：1/1038，語句處理進度總共：43/51\n",
      "對話處理進度：1/1038，語句處理進度總共：44/51\n",
      "對話處理進度：1/1038，語句處理進度總共：45/51\n",
      "對話處理進度：1/1038，語句處理進度總共：46/51\n",
      "對話處理進度：1/1038，語句處理進度總共：47/51\n",
      "對話處理進度：1/1038，語句處理進度總共：48/51\n",
      "對話處理進度：1/1038，語句處理進度總共：49/51\n",
      "對話處理進度：1/1038，語句處理進度總共：50/51\n",
      "對話處理進度：1/1038，語句處理進度總共：51/51\n"
     ]
    }
   ],
   "source": [
    "# 準備 API 請求\n",
    "headers = {\"Content-Type\": \"application/json\"}\n",
    "\n",
    "result_list=[]\n",
    "\n",
    "total_dialogues=len(data_list)\n",
    "dialogues_counter=1\n",
    "\n",
    "\n",
    "for i in data_list[:1]:\n",
    "    \n",
    "    counter=1\n",
    "\n",
    "    total_sentences=len(i[\"conversations\"])\n",
    "    # processed_conversations=[]\n",
    "    for sentence in i[\"conversations\"]:\n",
    "\n",
    "        data={\"input_value\": json.dumps(sentence[\"content\"])}\n",
    "\n",
    "        try:\n",
    "            response=requests.post(langflow_api, headers=headers, json=data)\n",
    "            content=response.json()['outputs'][0]['outputs'][0]['results']['text'][\"text\"]\n",
    "            sentence[\"content\"]=content\n",
    "            print(f\"對話處理進度：{dialogues_counter}/{total_dialogues}，語句處理進度總共：{counter}/{total_sentences}\")\n",
    "        except:\n",
    "            print(\"Error in response:\", response.text)\n",
    "        \n",
    "        counter+=1\n",
    "    \n",
    "    result_list.append(i)\n",
    "    dialogues_counter+=1\n",
    "\n"
   ]
  },
  {
   "cell_type": "code",
   "execution_count": 33,
   "metadata": {},
   "outputs": [
    {
     "name": "stdout",
     "output_type": "stream",
     "text": [
      "1038\n",
      "51\n"
     ]
    }
   ],
   "source": [
    "print(len(data_list))\n",
    "print(len(data_list[0][\"conversations\"]))"
   ]
  },
  {
   "cell_type": "code",
   "execution_count": null,
   "metadata": {},
   "outputs": [],
   "source": []
  },
  {
   "cell_type": "code",
   "execution_count": 27,
   "metadata": {},
   "outputs": [],
   "source": [
    "write_json_files(processed_data_folder, result_list)"
   ]
  },
  {
   "cell_type": "code",
   "execution_count": 24,
   "metadata": {},
   "outputs": [
    {
     "data": {
      "text/plain": [
       "'[匿名處理]就是嗅覺七二六六，對就不要講就這段一二六六。'"
      ]
     },
     "execution_count": 24,
     "metadata": {},
     "output_type": "execute_result"
    }
   ],
   "source": [
    "json.loads(result_list[0]['conversations'][7]['content'])"
   ]
  },
  {
   "cell_type": "code",
   "execution_count": null,
   "metadata": {},
   "outputs": [
    {
     "name": "stdout",
     "output_type": "stream",
     "text": [
      "成功連接到 API: http://localhost:7860\n"
     ]
    }
   ],
   "source": [
    "import requests\n",
    "\n",
    "# 定義 API URL\n",
    "# url = \"http://10.144.84.72:7860\"\n",
    "url = \"http://localhost:7860\"\n",
    "\n",
    "try:\n",
    "    # 發送 GET 請求\n",
    "    response = requests.get(url, timeout=5)\n",
    "    \n",
    "    # 檢查回應狀態碼\n",
    "    if response.status_code == 200:\n",
    "        print(\"成功連接到 API:\", url)\n",
    "    else:\n",
    "        print(f\"無法連接到 API，狀態碼: {response.status_code}\")\n",
    "except requests.exceptions.RequestException as e:\n",
    "    print(\"連接失敗，錯誤訊息:\", e)"
   ]
  },
  {
   "cell_type": "code",
   "execution_count": 69,
   "metadata": {},
   "outputs": [
    {
     "name": "stdout",
     "output_type": "stream",
     "text": [
      "原始內容: [\n",
      "    {\"type\": \"agent\", \"seq\": \"0\", \"content\": \"\\\\u6211\\\\u59d3[匿名處理]\\\\u54e1\\\\uff0c\\\\u7de8\\\\u865f[身份匿名處理]\\\\u5f88\\\\u9ad8\\\\u8208\\\\u70ba\\\\u60a8\\\\u670d\\\\u52d9\\\\u4f60\\\\u597d\\\\u3002\", \"starttime\": \"0.0\", \"endtime\": \"6.38\"},\n",
      "    {\"type\": \"customer\", \"seq\": \"1\", \"content\": \"\\\\u4f60\\\\u597d\\\\u655d\\\\u59d3[匿名處理]\\\\u8cb4\\\\u59d3\\\\u600e\\\\u9ebc\\\\u7a31\\\\u547c\\\\u4f60\\\\u662f[匿名處理]\\\\u5148\\\\u751f\\\\u60a8\\\\u597d\\\\uff0c\\\\u8acb\\\\u8aaa\", \"starttime\": \"3.38\", \"endtime\": \"10.62\"},\n",
      "    {\"type\": \"agent\", \"seq\": \"2\", \"content\": \"\\\\u6211\\\\u59d3[匿名處理]\\\\u3002\", \"starttime\": \"6.38\", \"endtime\": \"8.62\"},\n",
      "    {\"type\": \"agent\", \"seq\": \"3\", \"content\": \"\\\\u55ce\\\\uff1f\\\\u5e74\\\\u8fa6\\\\u6cd5\\\\u63a5\\\\u79d8\\\\u66f8\\\\u5ba4\\\\u7684\\\\u8aaa\\\\u660e\\\\u66f8[匿名處理]\\\\u5c0f\\\\u59d0\\\\u3002\", \"starttime\": \"9.88\", \"endtime\": \"17.75\"},\n",
      "    {\"type\": \"customer\", \"seq\": \"4\", \"content\": \"\\\\u[匿名處理]\\\\u5c0f\\\\u59d0\\\\u597d\\\\u5148\\\\u751f\\\\uff0c\\\\u60a8\\\\u7b49\\\\u4e00\\\\u4e0b\\\\u5594\\\\u6211\\\\u5e6b\\\\u4f60\\\\u78ba\\\\u8a8d\\\\u4e00\\\\u4e0b\\\\u5206\\\\u6a5f\\\\uff0c\\\\u8b1d\\\\u8b1d\\\\uff01\", \"starttime\": \"13.75\", \"endtime\": \"19.88\"},\n",
      "    {\"type\": \"agent\", \"seq\": \"5\", \"content\": \"\\\\u60a8\\\\u597d\\\\u6211\\\\u662f\\\\u5ba2\\\\u670d\\\\u4e2d\\\\u5fc3\\\\u5c08\\\\u54e1\\\\u7de8\\\\u865f[身份匿名處理]\\\\u5f88\\\\u9ad8\\\\u8208\\\\u70ba\\\\u60a8\\\\u670d\\\\u52d9\\\\u4f60\\\\u597d\\\\uff01\", \"starttime\": \"34.38\", \"endtime\": \"42.5\"},\n",
      "    {\"type\": \"customer\", \"seq\": \"6\", \"content\": \"\\\\u60a8\\\\u597d\\\\u662f\\\\u5df2\\\\u8ddf\\\\u4f60\\\\u78ba\\\\u5b9a\\\\u4e00\\\\u4e0b\\\\uff0c\\\\u6709\\\\u4e00\\\\u500b\\\\u4eba\\\\u8981\\\\u6c42\\\\u8981\\\\u6307\\\\u5b9a\\\\u8f49\\\\u66f8\\\\u79d8\\\\u66f8\\\\u5ba4[匿名處理]\\\\u5c0f\\\\u59d0\\\\u3002\\\\u6211\\\\u770b\\\\u4ed6\\\\u4eca\\\\u5929\\\\u524d\\\\u9762\\\\u6253\\\\u4e86\\\\u5169\\\\u901a\\\\u9032\\\\u4f86\\\\u4e86\\\\u632a\\\\uff0c\\\\u6211\\\\u8981\\\\u63a5\\\\u54ea\\\\u88e1\\\\u554a\\\\u3002\", \"starttime\": \"40.88\", \"endtime\": \"53.38\"},\n",
      "    {\"type\": \"agent\", \"seq\": \"7\", \"content\": \"\\\\u[匿名處理]\\\\u5c0f\\\\u59d0\\\\u5c31\\\\u662f\\\\u55c5\\\\u89ba\\\\u4e03\\\\u4e8c\\\\u516d\\\\u516d\\\\uff0c\\\\u5c0d\\\\u5c31\\\\u4e0d\\\\u8981\\\\u8b1b\\\\u5c31\\\\u9019\\\\u6bb5\\\\u4e00\\\\u4e8c\\\\u516d\\\\u516d\\\\u3002\", \"starttime\": \"48.5\", \"endtime\": \"60.0\"},\n",
      "    {\"type\": \"customer\", \"seq\": \"8\", \"content\": \"\\\\u4e00\\\\u4e8c\\\\u516d\\\\u516d\\\\u597d\\\\uff0c\\\\u8b1d\\\\u8b1d\\\\u5594\\\\u5594OK\\\\u597d\\\\u8b1d\\\\u8b1d\\\\uff01\", \"starttime\": \"54.88\", \"endtime\": \"59.75\"},\n",
      "    {\"type\": \"agent\", \"seq\": \"9\", \"content\": \"\\\\u5594\", \"starttime\": \"60.0\", \"endtime\": \"61.38\"},\n",
      "    {\"type\": \"agent\", \"seq\": \"10\", \"content\": \"\\\\u6216\", \"starttime\": \"64.88\", \"endtime\": \"67.5\"},\n",
      "    {\"type\": \"customer\", \"seq\": \"11\", \"content\": \"\\\\u55ef\\\\u8b1d\\\\u5c0f\\\\u59d0\\\\u4f60\\\\u597d\\\\uff0c\\\\u6211\\\\u662f\\\\u4ee5\\\\u4e0d\\\\u597d\\\\u610f\\\\u601d\\\\u7dda\\\\u4e0a\\\\u6709\\\\u500b[匿名處理]\\\\u5148\\\\u751f\\\\u8aaa\\\\uff0c\\\\u4ed6\\\\u8981\\\\u6307\\\\u5b9a\\\\u627e\\\\u60a8\\\\u6709\\\\u8ddf\\\\u4f60\\\\u901a\\\\u8a71\\\\u904e\\\\u90a3\\\\u80fd\\\\u5426\\\\uff0c\\\\u5148\\\\u50b3\\\\u7d66\\\\u60a8\\\\u502a\\\\u3002\", \"starttime\": \"65.75\", \"endtime\": \"75.88\"},\n",
      "    {\"type\": \"agent\", \"seq\": \"12\", \"content\": \"\\\\u597d\\\\u77e5\\\\u9053\\\\u4e86\", \"starttime\": \"75.62\", \"endtime\": \"77.88\"},\n",
      "    {\"type\": \"customer\", \"seq\": \"13\", \"content\": \"\\\\u597d\\\\uff0c\\\\u8b1d\\\\u8b1d\\\\uff01\", \"starttime\": \"76.25\", \"endtime\": \"79.0\"},\n",
      "    {\"type\": \"customer\", \"seq\": \"14\", \"content\": \"\\\\u60a8\\\\u597d\\\\u655d\\\\u59d3[匿名處理]\\\\u8acb\\\\u554f\\\\u600e\\\\u9ebc\\\\u7a31\\\\u547c\\\\u60a8\\\\uff01\", \"starttime\": \"78.88\", \"endtime\": \"83.0\"},\n",
      "    {\"type\": \"agent\", \"seq\": \"15\", \"content\": \"\\\\u6b38[匿名處理]\\\\u5c0f\\\\u59d0\\\\uff0c\\\\u4f60\\\\u597d\\\\uff0c[匿名處理]\\\\u5148\\\\u751f\\\\u8981\\\\u600e\\\\u6a23\", \"starttime\": \"82.62\", \"endtime\": \"87.38\"},\n",
      "    {\"type\": \"customer\", \"seq\": \"16\", \"content\": \"\\\\u6b38\\\\u5148\\\\u751f\\\\u60a8\\\\u597d\\\\u5443\\\\u60a8\\\\u662f\\\\u7db2\\\\u9801\", \"starttime\": \"84.12\", \"endtime\": \"90.0\"},\n",
      "    {\"type\": \"agent\", \"seq\": \"17\", \"content\": \"\\\\u563f\\\\uff01\", \"starttime\": \"87.75\", \"endtime\": \"89.12\"},\n",
      "    {\"type\": \"customer\", \"seq\": \"18\", \"content\": \"\\\\u90a3\\\\u6211\\\\u5148\\\\u751f\\\\u662f\\\\u4e0d\\\\u662f\\\\u662f\\\\u60a8\\\\u597d\\\\uff0c\\\\u90a3\\\\u60a8\\\\u7684\\\\u6848\\\\u5b50\\\\u6211\\\\u6709\\\\u65e9\\\\u4e0a\\\\u9084\\\\u770b\\\\u4e86\\\\u4e00\\\\u4e0b\\\\u6211\\\\u5011\\\\u4ee5\\\\u524d\\\\u6709\\\\u79fb\\\\u7d66\\\\u5c08\\\\u696d\\\\u91ab\\\\u5e2b\\\\u5be9\\\\u67e5\\\\u4e86\\\\u3002\", \"starttime\": \"90.0\", \"endtime\": \"102.0\"},\n",
      "    {\"type\": \"agent\", \"seq\": \"19\", \"content\": \"\\\\u5c0d\\\\u5c0d\\\\u5c0d\\\\u5c0d\\\\u5c0d\\\\u3002\", \"starttime\": \"90.62\", \"endtime\": \"93.0\"},\n",
      "    {\"type\": \"agent\", \"seq\": \"20\", \"content\": \"\\\\u563f\\\\u563f\", \"starttime\": \"97.62\", \"endtime\": \"99.25\"},\n",
      "    {\"type\": \"agent\", \"seq\": \"21\", \"content\": \"\\\\u6b38\\\\u4f60\\\\u5011\\\\u4e09\\\\u500b\\\\u79ae\\\\u62dc\\\\uff0c\\\\u4e0d\\\\u662f\\\\u5c31\\\\u5df2\\\\u7d93\\\\u79fb\\\\u9001\\\\u5c08\\\\u696d\\\\u91ab\\\\u5e2b\\\\u5be9\\\\u67e5\\\\u4e86\\\\u55ce\\\\uff1f\", \"starttime\": \"102.0\", \"endtime\": \"109.38\"},\n",
      "    {\"type\": \"customer\", \"seq\": \"22\", \"content\": \"\\\\u5c0d\", \"starttime\": \"102.75\", \"endtime\": \"104.5\"},\n",
      "    {\"type\": \"customer\", \"seq\": \"23\", \"content\": \"\\\\u6c92\\\\u6709\\\\u516b\\\\u6708\\\\u56db\\\\u865f\\\\u7684\\\\u6642\\\\u5019\\\\uff0c\\\\u6211\\\\u5011\\\\u4ee5\\\\u7d66\\\\u5c08\\\\u696d\\\\u91ab\\\\u5e2b\\\\u5be9\\\\u67e5\\\\u5e6b\\\\u4ed6\\\\u6708\\\\u56db\\\\u865f\\\\u5c0d\\\\u3002\", \"starttime\": \"107.88\", \"endtime\": \"117.5\"},\n",
      "    {\"type\": \"agent\", \"seq\": \"24\", \"content\": \"\\\\u516b\\\\u6708\\\\u56db\\\\u865f\", \"starttime\": \"114.5\", \"endtime\": \"116.62\"},\n",
      "    {\"type\": \"agent\", \"seq\": \"25\", \"content\": \"\\\\u554a\\\\uff0c\\\\u4eca\\\\u5929\\\\u5e7e\\\\u865f\", \"starttime\": \"117.62\", \"endtime\": \"120.0\"},\n",
      "    {\"type\": \"customer\", \"seq\": \"26\", \"content\": \"\\\\u5594\\\\u7b49\\\\u4e00\\\\u4e0b\\\\u4e0d\\\\u662f\\\\u516b\\\\u6708\", \"starttime\": \"117.88\", \"endtime\": \"120.0\"},\n",
      "    {\"type\": \"customer\", \"seq\": \"27\", \"content\": \"\\\\u56db\\\\u865f\\\\u7b49\\\\u6211\\\\u4e00\\\\u4e0b\\\\u6211\\\\u628a\\\\u4f60\\\\u7684\\\\u6a94\\\\u6848\\\\u8df3\\\\u51fa\\\\u4f86\\\\u56e0\\\\u70ba\\\\u6211\\\\u5728\\\\u770b\\\\u5225\\\\u7684\\\\u6771\\\\u897f\\\\u5c0d\\\\u4e0d\\\\u8d77\\\\u6211\\\\u770b\\\\u4e00\\\\u4e0b\\\\u3002\", \"starttime\": \"120.0\", \"endtime\": \"127.62\"},\n",
      "    {\"type\": \"customer\", \"seq\": \"28\", \"content\": \"\\\\u662f\", \"starttime\": \"127.75\", \"endtime\": \"129.88\"},\n",
      "    {\"type\": \"customer\", \"seq\": \"29\", \"content\": \"\\\\u5c0d\\\\u516b\\\\u6708\\\\u56db\\\\u865f\\\\u5df2\\\\u7d66\\\\u5c08\\\\u696d\\\\u91ab\\\\u5e2b\\\\uff0c\\\\u6211\\\\u770b\\\\u4ed6\\\\u90a3\\\\u500b\\\\u5c08\\\\u696d\\\\u91ab\\\\u5e2b\\\\u7684\\\\u90e8\\\\u5206\\\\u56de\\\\u4f86\\\\u4e86\\\\u6c92\\\\u6709\\\\u6211\\\\u9084\\\\u6c92\\\\u6709\\\\u3002\", \"starttime\": \"133.62\", \"endtime\": \"145.5\"},\n",
      "    {\"type\": \"agent\", \"seq\": \"30\", \"content\": \"\\\\u4e5d\\\\u865f\\\\u9700\\\\u8981\\\\u4e5f\\\\u4e5f\\\\u4eca\\\\u5929\\\\u75fe\\\\uff0c\\\\u4f60\\\\u8aaa\\\\u6700\\\\u6162\\\\u6642\\\\u9593\\\\u5462\\\\uff1f\", \"starttime\": \"142.75\", \"endtime\": \"150.0\"},\n",
      "    {\"type\": \"customer\", \"seq\": \"31\", \"content\": \"\\\\u6211\\\\u77e5\\\\u9053\\\\u61c9\\\\u8a72\\\\u662f\\\\u3002\", \"starttime\": \"147.25\", \"endtime\": \"150.0\"},\n",
      "    {\"type\": \"customer\", \"seq\": \"32\", \"content\": \"\\\\u8aaa\\\\u91ab\\\\u5e2b\\\\u7684\\\\u90e8\\\\u5206\\\\u6848\\\\u5b50\\\\u9084\\\\u6c92\\\\u6709\\\\u56de\\\\u4f86\\\\u7d66\\\\u6211\\\\u5011\\\\uff0c\\\\u90a3\\\\u60a8\\\\u7684\\\\u6848\\\\u5b50\\\\uff0c\\\\u6211\\\\u9084\\\\u662f\\\\u6703\\\\u7559\\\\u610f\\\\u5230\\\\u76ee\\\\u524d\\\\u70ba\\\\u6b62\\\\u91ab\\\\u5e2b\\\\u6211\\\\u5011\\\\u662f\\\\u516b\\\\u6708\\\\u56db\\\\u865f\\\\u9001\\\\u91ab\\\\u5e2b\\\\u5c08\\\\u696d\\\\u4e00\\\\u3002\", \"starttime\": \"150.0\", \"endtime\": \"164.15\"},\n",
      "    {\"type\": \"customer\", \"seq\": \"33\", \"content\": \"\\\\u9084\\\\u6c92\\\\u6709\\\\u56de\\\\u8986\\\\u7d66\\\\u52de\\\\u4fdd\\\\u5c40\\\\uff0c\\\\u90a3\\\\u5982\\\\u679c\\\\u4ed6\\\\u4e00\\\\u65e6\\\\u56de\\\\u8986\\\\u7d66\\\\u52de\\\\u4fdd\\\\u5c40\\\\uff0c\\\\u6211\\\\u5c31\\\\u99ac\\\\u4e0a\\\\u8acb\\\\u4ed6\\\\u5011\\\\u89e3\\\\u6848\\\\uff0c\\\\u5982\\\\u679c\\\\u6c92\\\\u6709\\\\u5176\\\\u4ed6\\\\u7591\\\\u7fa9\\\\uff0c\\\\u6211\\\\u5c31\\\\u8acb\\\\u4ed6\\\\u5011\\\\u59d0\\\\u5f88\\\\u597d\\\\u4e0d\\\\u597d\\\\u3002\", \"starttime\": \"165.25\", \"endtime\": \"177.12\"},\n",
      "    {\"type\": \"agent\", \"seq\": \"34\", \"content\": \"\\\\u9019\\\\u6a23\\\\u5594\", \"starttime\": \"176.75\", \"endtime\": \"178.62\"},\n",
      "    {\"type\": \"customer\", \"seq\": \"35\", \"content\": \"\\\\u662f\\\\u662f\\\\u662f\", \"starttime\": \"177.62\", \"endtime\": \"180.0\"},\n",
      "    {\"type\": \"agent\", \"seq\": \"36\", \"content\": \"\\\\u6b38\\\\uff01\", \"starttime\": \"178.5\", \"endtime\": \"180.0\"},\n",
      "    {\"type\": \"agent\", \"seq\": \"37\", \"content\": \"\\\\u518d\\\\u9ebb\\\\u7169\\\\u4f60\\\\u4e00\\\\u4e0b\\\\u751f\\\\u7684\\\\u8eab\\\\u5206\\\\u3002\", \"starttime\": \"180.0\", \"endtime\": \"183.25\"},\n",
      "    {\"type\": \"customer\", \"seq\": \"38\", \"content\": \"\\\\u6703\\\\u8ac7\\\\u9084\\\\u6709\\\\u6211\\\\u77e5\\\\u9053\\\\u6211\\\\u77e5\\\\u9053\\\\uff0c\\\\u56e0\\\\u70ba\\\\u6211\\\\u8981\\\\u5148\\\\u60a8\\\\u6709\\\\u63d0\\\\u5230\\\\u8aaa\\\\u5443\\\\uff0c\\\\u78ba\\\\u5be6\\\\u4ed6\\\\u9084\\\\u6709\\\\u554f\\\\u984c\\\\uff0c\\\\u6211\\\\u667a\\\\u5546\\\\u671f\\\\u9593\\\\u78ba\\\\u5be6\\\\u7e3d\\\\u662f\\\\u6703\\\\u6709\\\\u4e00\\\\u4e9b\\\\u7d93\\\\u6fdf\\\\u4e0a\\\\u7684\\\\u9700\\\\u8981\\\\u3002\", \"starttime\": \"180.25\", \"endtime\": \"194.75\"},\n",
      "    {\"type\": \"agent\", \"seq\": \"39\", \"content\": \"\\\\u5c0d\", \"starttime\": \"186.0\", \"endtime\": \"187.5\"},\n",
      "    {\"type\": \"agent\", \"seq\": \"40\", \"content\": \"\\\\u53ef\\\\u4ee5\\\\u554a\\\\uff01\", \"starttime\": \"194.25\", \"endtime\": \"196.75\"},\n",
      "    {\"type\": \"customer\", \"seq\": \"41\", \"content\": \"\\\\u90a3\\\\u6211\\\\u65e9\\\\u4e0a\\\\u6211\\\\u5c31\\\\u6709\\\\u518d\\\\u53bb\\\\u8ffd\\\\u8e64\\\\u4e00\\\\u4e0b\\\\u6848\\\\u5b50\\\\uff0c\\\\u53ef\\\\u662f\\\\u56e0\\\\u70ba\\\\u5443\\\\uff0c\\\\u4ed6\\\\u7684\\\\u91ab\\\\u5e2b\\\\u5be9\\\\u67e5\\\\u7684\\\\u90e8\\\\u5206\\\\u9084\\\\u6c92\\\\u6709\\\\u56de\\\\u4f86\\\\uff0c\\\\u6211\\\\u96d6\\\\u4ed6\\\\u5011\\\\u5c31\\\\u6c92\\\\u6709\\\\u7528\\\\uff0c\\\\u90a3\\\\u5fc5\\\\u9808\\\\u8981\\\\u7b49\\\\u\n",
      "JSON 解碼失敗: Unterminated string starting at: line 43 column 50 (char 10032)\n"
     ]
    }
   ],
   "source": [
    "import json\n",
    "\n",
    "# 假設 fixed_content 是從 API 或其他來源獲得的\n",
    "try:\n",
    "    print(\"原始內容:\", fixed_content)\n",
    "    \n",
    "    # 修正無效的轉義字符\n",
    "    fixed_content = fixed_content.replace(\"\\\\\", \"\\\\\\\\\")\n",
    "    \n",
    "    # 嘗試解析 JSON\n",
    "    parsed_content = json.loads(fixed_content)\n",
    "    print(\"解析後的內容:\", parsed_content)\n",
    "except json.JSONDecodeError as e:\n",
    "    print(\"JSON 解碼失敗:\", e)"
   ]
  },
  {
   "cell_type": "code",
   "execution_count": null,
   "metadata": {},
   "outputs": [],
   "source": []
  }
 ],
 "metadata": {
  "kernelspec": {
   "display_name": ".venv",
   "language": "python",
   "name": "python3"
  },
  "language_info": {
   "codemirror_mode": {
    "name": "ipython",
    "version": 3
   },
   "file_extension": ".py",
   "mimetype": "text/x-python",
   "name": "python",
   "nbconvert_exporter": "python",
   "pygments_lexer": "ipython3",
   "version": "3.12.3"
  }
 },
 "nbformat": 4,
 "nbformat_minor": 2
}
