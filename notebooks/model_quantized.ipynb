{
 "cells": [
  {
   "cell_type": "code",
   "execution_count": 8,
   "metadata": {},
   "outputs": [
    {
     "name": "stdout",
     "output_type": "stream",
     "text": [
      "Requirement already satisfied: torch in /home/thhuang/.venv/lib/python3.12/site-packages (2.6.0)\n",
      "Requirement already satisfied: filelock in /home/thhuang/.venv/lib/python3.12/site-packages (from torch) (3.17.0)\n",
      "Requirement already satisfied: typing-extensions>=4.10.0 in /home/thhuang/.venv/lib/python3.12/site-packages (from torch) (4.12.2)\n",
      "Requirement already satisfied: networkx in /home/thhuang/.venv/lib/python3.12/site-packages (from torch) (3.4.2)\n",
      "Requirement already satisfied: jinja2 in /home/thhuang/.venv/lib/python3.12/site-packages (from torch) (3.1.5)\n",
      "Requirement already satisfied: fsspec in /home/thhuang/.venv/lib/python3.12/site-packages (from torch) (2024.12.0)\n",
      "Requirement already satisfied: nvidia-cuda-nvrtc-cu12==12.4.127 in /home/thhuang/.venv/lib/python3.12/site-packages (from torch) (12.4.127)\n",
      "Requirement already satisfied: nvidia-cuda-runtime-cu12==12.4.127 in /home/thhuang/.venv/lib/python3.12/site-packages (from torch) (12.4.127)\n",
      "Requirement already satisfied: nvidia-cuda-cupti-cu12==12.4.127 in /home/thhuang/.venv/lib/python3.12/site-packages (from torch) (12.4.127)\n",
      "Requirement already satisfied: nvidia-cudnn-cu12==9.1.0.70 in /home/thhuang/.venv/lib/python3.12/site-packages (from torch) (9.1.0.70)\n",
      "Requirement already satisfied: nvidia-cublas-cu12==12.4.5.8 in /home/thhuang/.venv/lib/python3.12/site-packages (from torch) (12.4.5.8)\n",
      "Requirement already satisfied: nvidia-cufft-cu12==11.2.1.3 in /home/thhuang/.venv/lib/python3.12/site-packages (from torch) (11.2.1.3)\n",
      "Requirement already satisfied: nvidia-curand-cu12==10.3.5.147 in /home/thhuang/.venv/lib/python3.12/site-packages (from torch) (10.3.5.147)\n",
      "Requirement already satisfied: nvidia-cusolver-cu12==11.6.1.9 in /home/thhuang/.venv/lib/python3.12/site-packages (from torch) (11.6.1.9)\n",
      "Requirement already satisfied: nvidia-cusparse-cu12==12.3.1.170 in /home/thhuang/.venv/lib/python3.12/site-packages (from torch) (12.3.1.170)\n",
      "Requirement already satisfied: nvidia-cusparselt-cu12==0.6.2 in /home/thhuang/.venv/lib/python3.12/site-packages (from torch) (0.6.2)\n",
      "Requirement already satisfied: nvidia-nccl-cu12==2.21.5 in /home/thhuang/.venv/lib/python3.12/site-packages (from torch) (2.21.5)\n",
      "Requirement already satisfied: nvidia-nvtx-cu12==12.4.127 in /home/thhuang/.venv/lib/python3.12/site-packages (from torch) (12.4.127)\n",
      "Requirement already satisfied: nvidia-nvjitlink-cu12==12.4.127 in /home/thhuang/.venv/lib/python3.12/site-packages (from torch) (12.4.127)\n",
      "Requirement already satisfied: triton==3.2.0 in /home/thhuang/.venv/lib/python3.12/site-packages (from torch) (3.2.0)\n",
      "Requirement already satisfied: setuptools in /home/thhuang/.venv/lib/python3.12/site-packages (from torch) (75.8.0)\n",
      "Requirement already satisfied: sympy==1.13.1 in /home/thhuang/.venv/lib/python3.12/site-packages (from torch) (1.13.1)\n",
      "Requirement already satisfied: mpmath<1.4,>=1.1.0 in /home/thhuang/.venv/lib/python3.12/site-packages (from sympy==1.13.1->torch) (1.3.0)\n",
      "Requirement already satisfied: MarkupSafe>=2.0 in /home/thhuang/.venv/lib/python3.12/site-packages (from jinja2->torch) (3.0.2)\n",
      "\n",
      "\u001b[1m[\u001b[0m\u001b[34;49mnotice\u001b[0m\u001b[1;39;49m]\u001b[0m\u001b[39;49m A new release of pip is available: \u001b[0m\u001b[31;49m25.0\u001b[0m\u001b[39;49m -> \u001b[0m\u001b[32;49m25.0.1\u001b[0m\n",
      "\u001b[1m[\u001b[0m\u001b[34;49mnotice\u001b[0m\u001b[1;39;49m]\u001b[0m\u001b[39;49m To update, run: \u001b[0m\u001b[32;49mpip install --upgrade pip\u001b[0m\n"
     ]
    }
   ],
   "source": [
    "!pip3 install torch"
   ]
  },
  {
   "cell_type": "code",
   "execution_count": 7,
   "metadata": {},
   "outputs": [
    {
     "name": "stdout",
     "output_type": "stream",
     "text": [
      "/home/thhuang/.venv/bin/python\n",
      "/home/thhuang/.venv/bin/pip\n",
      "Name: autoawq\n",
      "Version: 0.2.8\n",
      "Summary: AutoAWQ implements the AWQ algorithm for 4-bit quantization with a 2x speedup during inference.\n",
      "Home-page: https://github.com/casper-hansen/AutoAWQ\n",
      "Author: Casper Hansen\n",
      "Author-email: \n",
      "License: MIT\n",
      "Location: /home/thhuang/.venv/lib/python3.12/site-packages\n",
      "Requires: accelerate, datasets, huggingface_hub, tokenizers, torch, transformers, triton, typing_extensions, zstandard\n",
      "Required-by: \n"
     ]
    }
   ],
   "source": [
    "!which python\n",
    "!which pip\n",
    "!pip show autoawq\n"
   ]
  },
  {
   "cell_type": "code",
   "execution_count": 9,
   "metadata": {},
   "outputs": [
    {
     "name": "stdout",
     "output_type": "stream",
     "text": [
      "Requirement already satisfied: autoawq in /home/thhuang/.venv/lib/python3.12/site-packages (0.2.8)\n",
      "Requirement already satisfied: transformers in /home/thhuang/.venv/lib/python3.12/site-packages (4.47.1)\n",
      "Requirement already satisfied: accelerate in /home/thhuang/.venv/lib/python3.12/site-packages (1.4.0)\n",
      "Requirement already satisfied: huggingface_hub in /home/thhuang/.venv/lib/python3.12/site-packages (0.28.1)\n",
      "Requirement already satisfied: torch>=2.6.0 in /home/thhuang/.venv/lib/python3.12/site-packages (from autoawq) (2.6.0)\n",
      "Requirement already satisfied: triton in /home/thhuang/.venv/lib/python3.12/site-packages (from autoawq) (3.2.0)\n",
      "Requirement already satisfied: tokenizers>=0.12.1 in /home/thhuang/.venv/lib/python3.12/site-packages (from autoawq) (0.21.0)\n",
      "Requirement already satisfied: typing_extensions>=4.8.0 in /home/thhuang/.venv/lib/python3.12/site-packages (from autoawq) (4.12.2)\n",
      "Requirement already satisfied: datasets>=2.20 in /home/thhuang/.venv/lib/python3.12/site-packages (from autoawq) (3.3.2)\n",
      "Requirement already satisfied: zstandard in /home/thhuang/.venv/lib/python3.12/site-packages (from autoawq) (0.23.0)\n",
      "Requirement already satisfied: filelock in /home/thhuang/.venv/lib/python3.12/site-packages (from transformers) (3.17.0)\n",
      "Requirement already satisfied: numpy>=1.17 in /home/thhuang/.venv/lib/python3.12/site-packages (from transformers) (1.26.4)\n",
      "Requirement already satisfied: packaging>=20.0 in /home/thhuang/.venv/lib/python3.12/site-packages (from transformers) (24.2)\n",
      "Requirement already satisfied: pyyaml>=5.1 in /home/thhuang/.venv/lib/python3.12/site-packages (from transformers) (6.0.2)\n",
      "Requirement already satisfied: regex!=2019.12.17 in /home/thhuang/.venv/lib/python3.12/site-packages (from transformers) (2024.11.6)\n",
      "Requirement already satisfied: requests in /home/thhuang/.venv/lib/python3.12/site-packages (from transformers) (2.32.3)\n",
      "Requirement already satisfied: safetensors>=0.4.1 in /home/thhuang/.venv/lib/python3.12/site-packages (from transformers) (0.5.3)\n",
      "Requirement already satisfied: tqdm>=4.27 in /home/thhuang/.venv/lib/python3.12/site-packages (from transformers) (4.67.1)\n",
      "Requirement already satisfied: psutil in /home/thhuang/.venv/lib/python3.12/site-packages (from accelerate) (6.1.1)\n",
      "Requirement already satisfied: fsspec>=2023.5.0 in /home/thhuang/.venv/lib/python3.12/site-packages (from huggingface_hub) (2024.12.0)\n",
      "Requirement already satisfied: pyarrow>=15.0.0 in /home/thhuang/.venv/lib/python3.12/site-packages (from datasets>=2.20->autoawq) (17.0.0)\n",
      "Requirement already satisfied: dill<0.3.9,>=0.3.0 in /home/thhuang/.venv/lib/python3.12/site-packages (from datasets>=2.20->autoawq) (0.3.8)\n",
      "Requirement already satisfied: pandas in /home/thhuang/.venv/lib/python3.12/site-packages (from datasets>=2.20->autoawq) (2.2.2)\n",
      "Requirement already satisfied: xxhash in /home/thhuang/.venv/lib/python3.12/site-packages (from datasets>=2.20->autoawq) (3.5.0)\n",
      "Requirement already satisfied: multiprocess<0.70.17 in /home/thhuang/.venv/lib/python3.12/site-packages (from datasets>=2.20->autoawq) (0.70.16)\n",
      "Requirement already satisfied: aiohttp in /home/thhuang/.venv/lib/python3.12/site-packages (from datasets>=2.20->autoawq) (3.10.11)\n",
      "Requirement already satisfied: charset-normalizer<4,>=2 in /home/thhuang/.venv/lib/python3.12/site-packages (from requests->transformers) (3.4.1)\n",
      "Requirement already satisfied: idna<4,>=2.5 in /home/thhuang/.venv/lib/python3.12/site-packages (from requests->transformers) (3.10)\n",
      "Requirement already satisfied: urllib3<3,>=1.21.1 in /home/thhuang/.venv/lib/python3.12/site-packages (from requests->transformers) (2.3.0)\n",
      "Requirement already satisfied: certifi>=2017.4.17 in /home/thhuang/.venv/lib/python3.12/site-packages (from requests->transformers) (2024.8.30)\n",
      "Requirement already satisfied: networkx in /home/thhuang/.venv/lib/python3.12/site-packages (from torch>=2.6.0->autoawq) (3.4.2)\n",
      "Requirement already satisfied: jinja2 in /home/thhuang/.venv/lib/python3.12/site-packages (from torch>=2.6.0->autoawq) (3.1.5)\n",
      "Requirement already satisfied: nvidia-cuda-nvrtc-cu12==12.4.127 in /home/thhuang/.venv/lib/python3.12/site-packages (from torch>=2.6.0->autoawq) (12.4.127)\n",
      "Requirement already satisfied: nvidia-cuda-runtime-cu12==12.4.127 in /home/thhuang/.venv/lib/python3.12/site-packages (from torch>=2.6.0->autoawq) (12.4.127)\n",
      "Requirement already satisfied: nvidia-cuda-cupti-cu12==12.4.127 in /home/thhuang/.venv/lib/python3.12/site-packages (from torch>=2.6.0->autoawq) (12.4.127)\n",
      "Requirement already satisfied: nvidia-cudnn-cu12==9.1.0.70 in /home/thhuang/.venv/lib/python3.12/site-packages (from torch>=2.6.0->autoawq) (9.1.0.70)\n",
      "Requirement already satisfied: nvidia-cublas-cu12==12.4.5.8 in /home/thhuang/.venv/lib/python3.12/site-packages (from torch>=2.6.0->autoawq) (12.4.5.8)\n",
      "Requirement already satisfied: nvidia-cufft-cu12==11.2.1.3 in /home/thhuang/.venv/lib/python3.12/site-packages (from torch>=2.6.0->autoawq) (11.2.1.3)\n",
      "Requirement already satisfied: nvidia-curand-cu12==10.3.5.147 in /home/thhuang/.venv/lib/python3.12/site-packages (from torch>=2.6.0->autoawq) (10.3.5.147)\n",
      "Requirement already satisfied: nvidia-cusolver-cu12==11.6.1.9 in /home/thhuang/.venv/lib/python3.12/site-packages (from torch>=2.6.0->autoawq) (11.6.1.9)\n",
      "Requirement already satisfied: nvidia-cusparse-cu12==12.3.1.170 in /home/thhuang/.venv/lib/python3.12/site-packages (from torch>=2.6.0->autoawq) (12.3.1.170)\n",
      "Requirement already satisfied: nvidia-cusparselt-cu12==0.6.2 in /home/thhuang/.venv/lib/python3.12/site-packages (from torch>=2.6.0->autoawq) (0.6.2)\n",
      "Requirement already satisfied: nvidia-nccl-cu12==2.21.5 in /home/thhuang/.venv/lib/python3.12/site-packages (from torch>=2.6.0->autoawq) (2.21.5)\n",
      "Requirement already satisfied: nvidia-nvtx-cu12==12.4.127 in /home/thhuang/.venv/lib/python3.12/site-packages (from torch>=2.6.0->autoawq) (12.4.127)\n",
      "Requirement already satisfied: nvidia-nvjitlink-cu12==12.4.127 in /home/thhuang/.venv/lib/python3.12/site-packages (from torch>=2.6.0->autoawq) (12.4.127)\n",
      "Requirement already satisfied: setuptools in /home/thhuang/.venv/lib/python3.12/site-packages (from torch>=2.6.0->autoawq) (75.8.0)\n",
      "Requirement already satisfied: sympy==1.13.1 in /home/thhuang/.venv/lib/python3.12/site-packages (from torch>=2.6.0->autoawq) (1.13.1)\n",
      "Requirement already satisfied: mpmath<1.4,>=1.1.0 in /home/thhuang/.venv/lib/python3.12/site-packages (from sympy==1.13.1->torch>=2.6.0->autoawq) (1.3.0)\n",
      "Requirement already satisfied: aiohappyeyeballs>=2.3.0 in /home/thhuang/.venv/lib/python3.12/site-packages (from aiohttp->datasets>=2.20->autoawq) (2.4.6)\n",
      "Requirement already satisfied: aiosignal>=1.1.2 in /home/thhuang/.venv/lib/python3.12/site-packages (from aiohttp->datasets>=2.20->autoawq) (1.3.2)\n",
      "Requirement already satisfied: attrs>=17.3.0 in /home/thhuang/.venv/lib/python3.12/site-packages (from aiohttp->datasets>=2.20->autoawq) (25.1.0)\n",
      "Requirement already satisfied: frozenlist>=1.1.1 in /home/thhuang/.venv/lib/python3.12/site-packages (from aiohttp->datasets>=2.20->autoawq) (1.5.0)\n",
      "Requirement already satisfied: multidict<7.0,>=4.5 in /home/thhuang/.venv/lib/python3.12/site-packages (from aiohttp->datasets>=2.20->autoawq) (6.1.0)\n",
      "Requirement already satisfied: yarl<2.0,>=1.12.0 in /home/thhuang/.venv/lib/python3.12/site-packages (from aiohttp->datasets>=2.20->autoawq) (1.18.3)\n",
      "Requirement already satisfied: MarkupSafe>=2.0 in /home/thhuang/.venv/lib/python3.12/site-packages (from jinja2->torch>=2.6.0->autoawq) (3.0.2)\n",
      "Requirement already satisfied: python-dateutil>=2.8.2 in /home/thhuang/.venv/lib/python3.12/site-packages (from pandas->datasets>=2.20->autoawq) (2.9.0.post0)\n",
      "Requirement already satisfied: pytz>=2020.1 in /home/thhuang/.venv/lib/python3.12/site-packages (from pandas->datasets>=2.20->autoawq) (2024.2)\n",
      "Requirement already satisfied: tzdata>=2022.7 in /home/thhuang/.venv/lib/python3.12/site-packages (from pandas->datasets>=2.20->autoawq) (2025.1)\n",
      "Requirement already satisfied: six>=1.5 in /home/thhuang/.venv/lib/python3.12/site-packages (from python-dateutil>=2.8.2->pandas->datasets>=2.20->autoawq) (1.17.0)\n",
      "Requirement already satisfied: propcache>=0.2.0 in /home/thhuang/.venv/lib/python3.12/site-packages (from yarl<2.0,>=1.12.0->aiohttp->datasets>=2.20->autoawq) (0.2.1)\n",
      "\n",
      "\u001b[1m[\u001b[0m\u001b[34;49mnotice\u001b[0m\u001b[1;39;49m]\u001b[0m\u001b[39;49m A new release of pip is available: \u001b[0m\u001b[31;49m25.0\u001b[0m\u001b[39;49m -> \u001b[0m\u001b[32;49m25.0.1\u001b[0m\n",
      "\u001b[1m[\u001b[0m\u001b[34;49mnotice\u001b[0m\u001b[1;39;49m]\u001b[0m\u001b[39;49m To update, run: \u001b[0m\u001b[32;49mpip install --upgrade pip\u001b[0m\n"
     ]
    }
   ],
   "source": [
    "!pip3 install autoawq transformers accelerate huggingface_hub"
   ]
  },
  {
   "cell_type": "code",
   "execution_count": 10,
   "metadata": {},
   "outputs": [
    {
     "ename": "ModuleNotFoundError",
     "evalue": "No module named 'autoawq'",
     "output_type": "error",
     "traceback": [
      "\u001b[0;31m---------------------------------------------------------------------------\u001b[0m",
      "\u001b[0;31mModuleNotFoundError\u001b[0m                       Traceback (most recent call last)",
      "Cell \u001b[0;32mIn[10], line 1\u001b[0m\n\u001b[0;32m----> 1\u001b[0m \u001b[38;5;28;01mfrom\u001b[39;00m\u001b[38;5;250m \u001b[39m\u001b[38;5;21;01mautoawq\u001b[39;00m\u001b[38;5;250m \u001b[39m\u001b[38;5;28;01mimport\u001b[39;00m AutoAWQForCausalLM\n",
      "\u001b[0;31mModuleNotFoundError\u001b[0m: No module named 'autoawq'"
     ]
    }
   ],
   "source": [
    "from autoawq import AutoAWQForCausalLM"
   ]
  },
  {
   "cell_type": "code",
   "execution_count": 5,
   "metadata": {},
   "outputs": [
    {
     "ename": "ModuleNotFoundError",
     "evalue": "No module named 'autoawq'",
     "output_type": "error",
     "traceback": [
      "\u001b[0;31m---------------------------------------------------------------------------\u001b[0m",
      "\u001b[0;31mModuleNotFoundError\u001b[0m                       Traceback (most recent call last)",
      "Cell \u001b[0;32mIn[5], line 1\u001b[0m\n\u001b[0;32m----> 1\u001b[0m \u001b[38;5;28;01mfrom\u001b[39;00m\u001b[38;5;250m \u001b[39m\u001b[38;5;21;01mautoawq\u001b[39;00m\u001b[38;5;250m \u001b[39m\u001b[38;5;28;01mimport\u001b[39;00m AutoAWQForCausalLM\n\u001b[1;32m      2\u001b[0m \u001b[38;5;28;01mfrom\u001b[39;00m\u001b[38;5;250m \u001b[39m\u001b[38;5;21;01mtransformers\u001b[39;00m\u001b[38;5;250m \u001b[39m\u001b[38;5;28;01mimport\u001b[39;00m AutoTokenizer\n",
      "\u001b[0;31mModuleNotFoundError\u001b[0m: No module named 'autoawq'"
     ]
    }
   ],
   "source": [
    "from autoawq import AutoAWQForCausalLM\n",
    "from transformers import AutoTokenizer\n",
    "\n"
   ]
  },
  {
   "cell_type": "code",
   "execution_count": null,
   "metadata": {},
   "outputs": [],
   "source": [
    "\n",
    "# 模型名稱（Hugging Face上的repo名稱）\n",
    "model_name = \"meta-llama/Meta-Llama-3-8B-Instruct\"\n",
    "\n",
    "# 下載原始FP16模型\n",
    "print(f\"Downloading model: {model_name}\")\n",
    "model = AutoAWQForCausalLM.from_pretrained(\n",
    "    model_name,\n",
    "    trust_remote_code=True,\n",
    "    safetensors=True,\n",
    ")\n",
    "\n",
    "# 下載tokenizer\n",
    "tokenizer = AutoTokenizer.from_pretrained(model_name, trust_remote_code=True)\n",
    "\n",
    "# 進行AWQ量化\n",
    "print(f\"Quantizing model: {model_name}\")\n",
    "model.quantize(\n",
    "    bits=4,\n",
    "    group_size=128,     # AWQ預設group size\n",
    "    damp_percent=0.01,  # 一般設0.01~0.1，A6000可設0.01\n",
    "    desc_act=False,     # 是否descend activation（一般LLM設False）\n",
    ")\n",
    "\n",
    "# 儲存量化後的模型到本地\n",
    "save_path = \"./llama-3.1-8b-instruct-awq\"\n",
    "print(f\"Saving quantized model to {save_path}\")\n",
    "model.save_quantized(save_path)\n",
    "\n",
    "# tokenizer一起存起來\n",
    "tokenizer.save_pretrained(save_path)\n",
    "\n",
    "print(f\"✅ Quantization complete. Model saved to {save_path}\")"
   ]
  }
 ],
 "metadata": {
  "kernelspec": {
   "display_name": ".venv",
   "language": "python",
   "name": "python3"
  },
  "language_info": {
   "codemirror_mode": {
    "name": "ipython",
    "version": 3
   },
   "file_extension": ".py",
   "mimetype": "text/x-python",
   "name": "python",
   "nbconvert_exporter": "python",
   "pygments_lexer": "ipython3",
   "version": "3.12.3"
  }
 },
 "nbformat": 4,
 "nbformat_minor": 2
}
