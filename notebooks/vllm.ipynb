{
 "cells": [
  {
   "cell_type": "code",
   "execution_count": 2,
   "metadata": {},
   "outputs": [
    {
     "name": "stdout",
     "output_type": "stream",
     "text": [
      "AI回應: 我可以幫你查詢目前的天氣資料。根據我目前的知識庫，我可以告訴你今天台北的天氣預報是什麼。但請注意，我的資料可能會有所延遲，實際的天氣可能會有所不同。\n",
      "\n",
      "如果你想知道今天台北的天氣預報，請告訴我你想知道的日期（今天或其他日期）。如果你想知道當前的天氣狀況，我可以幫你查詢附近的氣象站或天氣網站資料。\n",
      "\n",
      "如果你只想知道台北的天氣類型（如晴天、雨天、陰天等），你可以問我今天台北的天氣類型是什麼。\n"
     ]
    }
   ],
   "source": [
    "import requests\n",
    "\n",
    "url = \"http://localhost:8000/v1/chat/completions\"\n",
    "\n",
    "headers = {\n",
    "    \"Content-Type\": \"application/json\"\n",
    "}\n",
    "\n",
    "payload = {\n",
    "    \"model\": \"/models/models--meta-llama--Llama-3.1-8B-Instruct/snapshots/manual-20250305\",\n",
    "    \"messages\": [\n",
    "        {\"role\": \"system\", \"content\": \"你是一位中文客服專家\"},\n",
    "        {\"role\": \"user\", \"content\": \"請問今天台北天氣如何？\"}\n",
    "    ],\n",
    "    \"temperature\": 0.7,\n",
    "    \"max_tokens\": 512\n",
    "}\n",
    "\n",
    "response = requests.post(url, json=payload, headers=headers)\n",
    "\n",
    "if response.status_code == 200:\n",
    "    result = response.json()\n",
    "    print(\"AI回應:\", result[\"choices\"][0][\"message\"][\"content\"])\n",
    "else:\n",
    "    print(\"錯誤:\", response.status_code, response.text)\n"
   ]
  },
  {
   "cell_type": "code",
   "execution_count": 2,
   "metadata": {},
   "outputs": [
    {
     "name": "stdout",
     "output_type": "stream",
     "text": [
      "\n",
      "我是什麼模型?\n",
      "我是什麼模型？\n",
      "貓咪\n",
      "這是一個在網上的模型，可以被用作一個這樣的主播而這一主播是一個大點的女人。另外，可以是一個在這裡學生，如果你想要有趣的，我會說你可以喜愛\n"
     ]
    }
   ],
   "source": [
    "result = generate_text(\"你是什麼模型?\", max_tokens=256)\n",
    "print(result['text'])"
   ]
  },
  {
   "cell_type": "code",
   "execution_count": null,
   "metadata": {},
   "outputs": [],
   "source": []
  }
 ],
 "metadata": {
  "kernelspec": {
   "display_name": ".venv",
   "language": "python",
   "name": "python3"
  },
  "language_info": {
   "codemirror_mode": {
    "name": "ipython",
    "version": 3
   },
   "file_extension": ".py",
   "mimetype": "text/x-python",
   "name": "python",
   "nbconvert_exporter": "python",
   "pygments_lexer": "ipython3",
   "version": "3.12.3"
  }
 },
 "nbformat": 4,
 "nbformat_minor": 2
}
